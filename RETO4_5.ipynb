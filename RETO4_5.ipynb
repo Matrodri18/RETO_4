{
  "nbformat": 4,
  "nbformat_minor": 0,
  "metadata": {
    "colab": {
      "provenance": []
    },
    "kernelspec": {
      "name": "python3",
      "display_name": "Python 3"
    },
    "language_info": {
      "name": "python"
    }
  },
  "cells": [
    {
      "cell_type": "code",
      "execution_count": 8,
      "metadata": {
        "colab": {
          "base_uri": "https://localhost:8080/"
        },
        "id": "BSCaMqm_uS6N",
        "outputId": "f66bb55e-ebde-44b8-8486-f45605bd5cf2"
      },
      "outputs": [
        {
          "output_type": "stream",
          "name": "stdout",
          "text": [
            "ingrese un número real : -121332\n",
            "El numero-121332.0 es negativo\n"
          ]
        }
      ],
      "source": [
        "n: float\n",
        "n = float(input(\"ingrese un número real : \"))\n",
        "if n == 0:\n",
        "  print(\"El numero\" + str(n)+ \"es el neutro para la suma\")\n",
        "else:\n",
        "  if n < 0:\n",
        "    print(\"El numero\" + str(n) + \" es negativo\")\n",
        "  if n > 0:\n",
        "    print(\"El numero\" + str(n) + \" es positivo\")\n",
        ""
      ]
    }
  ]
}