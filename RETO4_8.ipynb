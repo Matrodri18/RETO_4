{
  "nbformat": 4,
  "nbformat_minor": 0,
  "metadata": {
    "colab": {
      "provenance": []
    },
    "kernelspec": {
      "name": "python3",
      "display_name": "Python 3"
    },
    "language_info": {
      "name": "python"
    }
  },
  "cells": [
    {
      "cell_type": "code",
      "execution_count": 21,
      "metadata": {
        "colab": {
          "base_uri": "https://localhost:8080/"
        },
        "id": "mFU6GqFZyJQM",
        "outputId": "8ae870a3-f878-4261-d546-fe7e8d65d9ca"
      },
      "outputs": [
        {
          "output_type": "stream",
          "name": "stdout",
          "text": [
            "¿Quieres saber la capital de algún país de américa? (Escribelo en minúsculas y con buena ortografía)chile\n",
            "Su capital es Santiago de Chile.\n"
          ]
        }
      ],
      "source": [
        "lang = input(\"¿Quieres saber la capital de algún país de américa? (Escribelo en minúsculas y con buena ortografía)\")\n",
        "if lang == \"canadá\":\n",
        "  print(\"Su capital es Otawwa.\")\n",
        "elif lang ==\"estados unidos\":\n",
        "  print(\"Su capital es Washington DC.\")\n",
        "elif lang == \"méxico\":\n",
        "  print(\"Su capital es Ciudad de México.\")\n",
        "elif lang == \"belice\":\n",
        "  print(\"Su capital es Belmopán.\")\n",
        "elif lang == \"costa rica\":\n",
        "  print(\"Su capital es San josé.\")\n",
        "elif lang == \"el salvador\":\n",
        "  print(\"Su capital es San Salvador.\")\n",
        "elif lang == \"guatemala\":\n",
        "  print(\"Su capital es Ciudad de Guatemala.\")\n",
        "elif lang == \"honduras\":\n",
        "  print(\"Su capital es Tegucigalpa\")\n",
        "elif lang == \"nicaragua\":\n",
        "  print(\"Su capital es Managua.\")\n",
        "elif lang == \"panamá\":\n",
        "  print(\"Su capital es Ciudad de Panamá.\")\n",
        "elif lang == \"argentina\":\n",
        "  print(\"Su capital es Buenos Aires.\")\n",
        "elif lang == \"bolivia\":\n",
        "  print(\"Su capital es Sucre.\")\n",
        "elif lang == \"brasil\":\n",
        "  print(\"Su capital es Brasilia.\")\n",
        "elif lang == \"chile\":\n",
        "  print(\"Su capital es Santiago de Chile.\")\n",
        "elif lang == \"colombia\":\n",
        "  print(\"Su capital es Bogotá.\")\n",
        "elif lang == \"ecuador\":\n",
        "  print(\"Su capital es Quito.\")\n",
        "elif lang == \"paraguay\":\n",
        "  print(\"Su capital es Asunción.\")\n",
        "elif lang == \"perú\":\n",
        "  print(\"Su capital es Lima.\")\n",
        "elif lang == \"surinam\":\n",
        "  print(\"Su capital es Parabimo.\")\n",
        "elif lang == \"trinidad y tobago\":\n",
        "  print(\"Su capital es Puerto España.\")\n",
        "elif lang == \"uruguay\":\n",
        "  print(\"Su capital es Montevideo.\")\n",
        "elif lang == \"venezuela\":\n",
        "  print(\"Su capital es Caracas.\")\n",
        "elif lang == \"antigua y barbuda\":\n",
        "  print(\"Su capital es Saint John.\")\n",
        "elif lang == \"bahamas\":\n",
        "  print(\"Su capital es Nasáu.\")\n",
        "elif lang == \"barbados\":\n",
        "  print(\"Su capital es Bridgetown.\")\n",
        "elif lang == \"cuba\":\n",
        "  print(\"Su capital es La Habana.\")\n",
        "elif lang == \"dominica\":\n",
        "  print(\"Su capital es Roseau.\")\n",
        "elif lang == \"granada\":\n",
        "  print(\"Su capital es Saint George.\")\n",
        "elif lang == \"guyana\":\n",
        "  print(\"Su capital es Georgetown.\")\n",
        "elif lang == \"haití\":\n",
        "  print(\"Su capital es Puerto Príncipe.\")\n",
        "elif lang == \"jamaica\":\n",
        "  print(\"Su capital es Kingston.\")\n",
        "elif lang == \"república dominicana\":\n",
        "  print(\"Su capital es Santo Somingo.\")\n",
        "elif lang == \"san cristóbal y nieves\":\n",
        "  print(\"Su capital es Bassterre.\")\n",
        "elif lang == \"san vicente y las granadinas\":\n",
        "  print(\"Su capital es kingstown.\")\n",
        "elif lang == \"santa lucía\":\n",
        "  print(\"Su capital es Castries.\")\n",
        "else:\n",
        "  print(\"país no identificado\")\n"
      ]
    }
  ]
}