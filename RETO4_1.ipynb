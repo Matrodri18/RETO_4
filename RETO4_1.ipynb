{
  "nbformat": 4,
  "nbformat_minor": 0,
  "metadata": {
    "colab": {
      "provenance": [],
      "authorship_tag": "ABX9TyNNfWjMvUHVAWEMhbWUiAAf",
      "include_colab_link": true
    },
    "kernelspec": {
      "name": "python3",
      "display_name": "Python 3"
    },
    "language_info": {
      "name": "python"
    }
  },
  "cells": [
    {
      "cell_type": "markdown",
      "metadata": {
        "id": "view-in-github",
        "colab_type": "text"
      },
      "source": [
        "<a href=\"https://colab.research.google.com/github/Matrodri18/RETO_4/blob/main/RETO4_1.ipynb\" target=\"_parent\"><img src=\"https://colab.research.google.com/assets/colab-badge.svg\" alt=\"Open In Colab\"/></a>"
      ]
    },
    {
      "cell_type": "code",
      "execution_count": 12,
      "metadata": {
        "colab": {
          "base_uri": "https://localhost:8080/"
        },
        "id": "qyNhWrR5m_pe",
        "outputId": "4870709b-c46a-42fd-ff12-22a815892212"
      },
      "outputs": [
        {
          "output_type": "stream",
          "name": "stdout",
          "text": [
            "ingrese un numero entero: 11\n",
            "El número11no corresponde  al coddigo ASSCI de una vocal minúscula\n"
          ]
        }
      ],
      "source": [
        "n: int\n",
        "n = int(input(\"ingrese un numero entero: \")) #conversion a entero\n",
        "if 97 <= n and n <= 122:\n",
        "  print(\"El número\"  + str(n) + \"corresponde al codigo ASCII de una vocal minúscula\")\n",
        "else:\n",
        "  if n < 97:\n",
        "    print(\"El número\" +  str(n)  + \"no corresponde  al coddigo ASSCI de una vocal minúscula\")\n",
        "  if n > 122:\n",
        "    print(\"El número\"  +  str(n)  + \"no corresponde  al coddigo ASSCI de una vocal minúscula\")\n"
      ]
    },
    {
      "cell_type": "code",
      "source": [],
      "metadata": {
        "id": "a8MV8NO7n60I"
      },
      "execution_count": null,
      "outputs": []
    }
  ]
}